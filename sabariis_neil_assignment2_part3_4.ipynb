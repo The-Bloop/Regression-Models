{
 "cells": [
  {
   "cell_type": "markdown",
   "metadata": {},
   "source": [
    "# Part III and IV"
   ]
  },
  {
   "cell_type": "markdown",
   "metadata": {},
   "source": [
    "# AI"
   ]
  },
  {
   "cell_type": "markdown",
   "metadata": {},
   "source": [
    "\"We certify that the code and data in this assignment were generated independently, using only the tools and resources defined in the course and that we did not receive any external help, coaching or contributions during the production of this work.\"\n",
    "\n",
    "Sabariis Venugopal Sankaranarayanan, \n",
    "Neil Jayesh Doshi"
   ]
  },
  {
   "cell_type": "markdown",
   "metadata": {},
   "source": [
    "## Data Prep"
   ]
  },
  {
   "cell_type": "code",
   "execution_count": 40,
   "metadata": {},
   "outputs": [],
   "source": [
    "import pandas as pd\n",
    "import numpy as np\n",
    "import matplotlib.pyplot as plt"
   ]
  },
  {
   "cell_type": "code",
   "execution_count": 4,
   "metadata": {},
   "outputs": [],
   "source": [
    "Data = pd.read_csv(\"penguins.csv\")\n",
    "df = pd.DataFrame(Data)"
   ]
  },
  {
   "cell_type": "code",
   "execution_count": 5,
   "metadata": {},
   "outputs": [],
   "source": [
    "new = df.dropna(axis=0,inplace=False)"
   ]
  },
  {
   "cell_type": "code",
   "execution_count": 6,
   "metadata": {},
   "outputs": [
    {
     "name": "stderr",
     "output_type": "stream",
     "text": [
      "C:\\Users\\spred\\Anaconda3\\lib\\site-packages\\ipykernel_launcher.py:1: SettingWithCopyWarning: \n",
      "A value is trying to be set on a copy of a slice from a DataFrame.\n",
      "Try using .loc[row_indexer,col_indexer] = value instead\n",
      "\n",
      "See the caveats in the documentation: http://pandas.pydata.org/pandas-docs/stable/indexing.html#indexing-view-versus-copy\n",
      "  \"\"\"Entry point for launching an IPython kernel.\n",
      "C:\\Users\\spred\\Anaconda3\\lib\\site-packages\\ipykernel_launcher.py:2: SettingWithCopyWarning: \n",
      "A value is trying to be set on a copy of a slice from a DataFrame.\n",
      "Try using .loc[row_indexer,col_indexer] = value instead\n",
      "\n",
      "See the caveats in the documentation: http://pandas.pydata.org/pandas-docs/stable/indexing.html#indexing-view-versus-copy\n",
      "  \n",
      "C:\\Users\\spred\\Anaconda3\\lib\\site-packages\\ipykernel_launcher.py:3: SettingWithCopyWarning: \n",
      "A value is trying to be set on a copy of a slice from a DataFrame.\n",
      "Try using .loc[row_indexer,col_indexer] = value instead\n",
      "\n",
      "See the caveats in the documentation: http://pandas.pydata.org/pandas-docs/stable/indexing.html#indexing-view-versus-copy\n",
      "  This is separate from the ipykernel package so we can avoid doing imports until\n",
      "C:\\Users\\spred\\Anaconda3\\lib\\site-packages\\ipykernel_launcher.py:4: SettingWithCopyWarning: \n",
      "A value is trying to be set on a copy of a slice from a DataFrame.\n",
      "Try using .loc[row_indexer,col_indexer] = value instead\n",
      "\n",
      "See the caveats in the documentation: http://pandas.pydata.org/pandas-docs/stable/indexing.html#indexing-view-versus-copy\n",
      "  after removing the cwd from sys.path.\n"
     ]
    }
   ],
   "source": [
    "new['body_mass_g'] = new['body_mass_g'] / 6300.0\n",
    "new['bill_length_mm'] = new['bill_length_mm'] / 59.60\n",
    "new['bill_depth_mm'] = new['bill_depth_mm'] / 21.50\n",
    "new['flipper_length_mm'] = new['flipper_length_mm'] / 231.0\n",
    "#new['year'] = new['year'] / 2009.0\n",
    "df = new.copy()"
   ]
  },
  {
   "cell_type": "code",
   "execution_count": 7,
   "metadata": {},
   "outputs": [],
   "source": [
    "df['species'] = pd.factorize(df['species'])[0]\n",
    "df['island'] = pd.factorize(df['island'])[0]\n",
    "df['sex'] = pd.factorize(df['sex'])[0]"
   ]
  },
  {
   "cell_type": "code",
   "execution_count": 8,
   "metadata": {},
   "outputs": [],
   "source": [
    "y = df['sex']\n",
    "x = df\n",
    "x = x.drop('sex', axis=1)\n",
    "x = x.drop('year', axis=1)\n",
    "x = x.drop('species', axis=1)\n",
    "x = x.drop('island', axis=1)"
   ]
  },
  {
   "cell_type": "code",
   "execution_count": 11,
   "metadata": {},
   "outputs": [],
   "source": [
    "index = np.random.permutation(len(x))\n",
    "split_size = int(0.8 * x.shape[0])\n",
    "train = index[:split_size]\n",
    "test = index[split_size:]\n",
    "x_train, x_test = x.iloc[train], x.iloc[test]\n",
    "y_train, y_test = y.iloc[train], y.iloc[test]"
   ]
  },
  {
   "cell_type": "markdown",
   "metadata": {},
   "source": [
    "# Part III : Linear Regression"
   ]
  },
  {
   "cell_type": "code",
   "execution_count": 37,
   "metadata": {},
   "outputs": [],
   "source": [
    "class LinearRegression:\n",
    "    def __init__(self):\n",
    "        self.learning_rate = 0.000001\n",
    "        self.iterations = 100000\n",
    "        self.weights = []\n",
    "        self.bias = 0\n",
    "        \n",
    "    def cost(self, x, y):\n",
    "        part1 = (y - np.dot(x,self.weights))\n",
    "        part2 = np.dot(part1.T,part1)\n",
    "        jw = 0.5*np.sum(part2)\n",
    "        return jw\n",
    "    \n",
    "    def calculate_weight(self, x, y):\n",
    "        part1 = np.linalg.inv(np.dot(np.transpose(x),x))\n",
    "        part2 = np.dot(np.transpose(x),y)\n",
    "        self.weights = np.dot(part1,part2)\n",
    "            \n",
    "    def predict(self, x):\n",
    "        N,n = x.shape\n",
    "        x_new = np.ones((N,n+1))\n",
    "        x_new[0:N,1:n+1] = x\n",
    "        x = x_new\n",
    "        N,n = x.shape\n",
    "        y_hat = np.dot(x,self.weights)\n",
    "        y_predicted = []\n",
    "        for i in y_hat:\n",
    "            if(i >= 0):\n",
    "                y_predicted.append(1)\n",
    "            else:\n",
    "                y_predicted.append(0)\n",
    "        return y_predicted\n",
    "    \n",
    "    def fit(self, x, y):\n",
    "        N,n = x.shape\n",
    "        x_new = np.ones((N,n+1))\n",
    "        x_new[0:N,1:n+1] = x\n",
    "        x = x_new\n",
    "        N,n = x.shape\n",
    "        self.weights = np.zeros(n)\n",
    "        self.calculate_weight(x, y)\n",
    "        print(self.cost(x,y))\n",
    "        print(self.weights)\n",
    "    \n",
    "#     def accuracy(self, x, y):\n",
    "#         y_predicted = self.predict(x)\n",
    "#         y_len = len(y_predicted)\n",
    "#         y =y.tolist()\n",
    "#         y_logical = np.zeros(y_len)\n",
    "#         for i in range(0,len(y_predicted)):\n",
    "#             if(y_predicted[i] == y[i]):\n",
    "#                 y_logical[i] = 1\n",
    "#         acc = (np.mean(y_logical))*100\n",
    "#         print(self.weights)\n",
    "#         print(acc)"
   ]
  },
  {
   "cell_type": "code",
   "execution_count": 44,
   "metadata": {},
   "outputs": [
    {
     "name": "stdout",
     "output_type": "stream",
     "text": [
      "12.81881020509504\n",
      "[ 5.67982269 -0.51929908 -3.92025913  0.29105252 -2.87829552]\n"
     ]
    }
   ],
   "source": [
    "linear = LinearRegression()\n",
    "linear.fit(x_train, y_train)\n",
    "y_predicted = linear.predict(x_test)"
   ]
  },
  {
   "cell_type": "code",
   "execution_count": 67,
   "metadata": {},
   "outputs": [
    {
     "data": {
      "image/png": "[encoded data removed]",
      "text/plain": [
       "<Figure size 432x288 with 1 Axes>"
      ]
     },
     "metadata": {
      "needs_background": "light"
     },
     "output_type": "display_data"
    }
   ],
   "source": [
    "x_index = [i for i in range(0,len(y_predicted)) if i==i]\n",
    "N,n = x_test.shape\n",
    "x_new = np.array(x_test)\n",
    "plt.scatter(x_new[0:N+1,0:1],y_test,marker='^',color='black', s = 25)\n",
    "plt.legend()\n",
    "plt.scatter(x_new[0:N+1,0:1],y_predicted,marker='s',color='red', s=5)\n",
    "plt.xlabel(\"Bill Length\")\n",
    "plt.ylabel(\"Sex\")\n",
    "plt.title(\"Y vs Y_Predicted\")\n",
    "plt.legend()\n",
    "plt.show()"
   ]
  },
  {
   "cell_type": "markdown",
   "metadata": {},
   "source": [
    "# Ridge Regression"
   ]
  },
  {
   "cell_type": "code",
   "execution_count": 72,
   "metadata": {},
   "outputs": [],
   "source": [
    "class RidgeRegression:\n",
    "    def __init__(self, lam_in):\n",
    "        self.weights = []\n",
    "        self.lam = lam_in\n",
    "    \n",
    "    def calculate_weight(self, x, y):\n",
    "        N,n = x.shape\n",
    "        part1 = np.linalg.inv(np.dot(x.T,x)+(self.lam*np.identity(n)))\n",
    "        part2 = np.dot(x.T,y)\n",
    "        self.weights = np.dot(part1,part2)\n",
    "    \n",
    "    def cost(self, x, y):\n",
    "        part1 = (y - np.dot(x,self.weights))\n",
    "        part2 = np.dot(part1.T,part1)\n",
    "        part3 = part2 + (0.5*self.lam*np.dot(self.weights.T,self.weights))\n",
    "        jw = 0.5*np.sum(part3)\n",
    "        return jw\n",
    "            \n",
    "    def predict(self, x):\n",
    "        N,n = x.shape\n",
    "        x_new = np.ones((N,n+1))\n",
    "        x_new[0:N,1:n+1] = x\n",
    "        x = x_new\n",
    "        N,n = x.shape\n",
    "        y_hat = np.dot(x,self.weights)\n",
    "        y_predicted = []\n",
    "        for i in y_hat:\n",
    "            if(i >= 0):\n",
    "                y_predicted.append(1)\n",
    "            else:\n",
    "                y_predicted.append(0)\n",
    "        return y_predicted\n",
    "    \n",
    "    def fit(self, x, y):\n",
    "        N,n = x.shape\n",
    "        x_new = np.ones((N,n+1))\n",
    "        x_new[0:N,1:n+1] = x\n",
    "        x = x_new\n",
    "        N,n = x.shape\n",
    "        self.weights = np.zeros(n)\n",
    "        self.calculate_weight(x, y)\n",
    "        print(self.cost(x,y))\n",
    "        print(self.weights)\n",
    "    \n",
    "#     def accuracy(self, x, y):\n",
    "#         y_predicted = self.predict(x)\n",
    "#         y_len = len(y_predicted)\n",
    "#         y =y.tolist()\n",
    "#         y_logical = np.zeros(y_len)\n",
    "#         for i in range(0,len(y_predicted)):\n",
    "#             if(y_predicted[i] == y[i]):\n",
    "#                 y_logical[i] = 1\n",
    "#         acc = (np.mean(y_logical))*100\n",
    "#         print(self.weights)\n",
    "#         print(acc)"
   ]
  },
  {
   "cell_type": "code",
   "execution_count": 73,
   "metadata": {},
   "outputs": [
    {
     "name": "stdout",
     "output_type": "stream",
     "text": [
      "12.81881020509504\n",
      "[ 5.67982269 -0.51929908 -3.92025913  0.29105252 -2.87829552]\n"
     ]
    }
   ],
   "source": [
    "ridge1 = RidgeRegression(0)\n",
    "ridge1.fit(x_train, y_train)\n",
    "yp1 = ridge1.predict(x_test)"
   ]
  },
  {
   "cell_type": "code",
   "execution_count": 74,
   "metadata": {},
   "outputs": [
    {
     "name": "stdout",
     "output_type": "stream",
     "text": [
      "12.832876899156519\n",
      "[ 5.65793146 -0.52132362 -3.91098268  0.31179451 -2.88143219]\n"
     ]
    }
   ],
   "source": [
    "ridge2 = RidgeRegression(0.001)\n",
    "ridge2.fit(x_train, y_train)\n",
    "yp2 = ridge2.predict(x_test)"
   ]
  },
  {
   "cell_type": "code",
   "execution_count": 75,
   "metadata": {},
   "outputs": [
    {
     "name": "stdout",
     "output_type": "stream",
     "text": [
      "12.959266419060233\n",
      "[ 5.47643582 -0.53706029 -3.83207919  0.47858678 -2.90424976]\n"
     ]
    }
   ],
   "source": [
    "ridge3 = RidgeRegression(0.01)\n",
    "ridge3.fit(x_train, y_train)\n",
    "yp3 = ridge3.predict(x_test)"
   ]
  },
  {
   "cell_type": "code",
   "execution_count": 76,
   "metadata": {},
   "outputs": [
    {
     "name": "stdout",
     "output_type": "stream",
     "text": [
      "14.155622816396695\n",
      "[ 4.42905939 -0.5787273  -3.28300646  1.19725489 -2.88515   ]\n"
     ]
    }
   ],
   "source": [
    "ridge4 = RidgeRegression(0.1)\n",
    "ridge4.fit(x_train, y_train)\n",
    "yp4 = ridge4.predict(x_test)"
   ]
  },
  {
   "cell_type": "code",
   "execution_count": 77,
   "metadata": {},
   "outputs": [
    {
     "name": "stdout",
     "output_type": "stream",
     "text": [
      "21.74342885476474\n",
      "[ 2.14260253 -0.3277971  -1.43742256  1.02423537 -1.72995888]\n"
     ]
    }
   ],
   "source": [
    "ridge5 = RidgeRegression(1)\n",
    "ridge5.fit(x_train, y_train)\n",
    "yp5 = ridge5.predict(x_test)"
   ]
  },
  {
   "cell_type": "code",
   "execution_count": 78,
   "metadata": {},
   "outputs": [
    {
     "data": {
      "image/png": "[encoded data removed]",
      "text/plain": [
       "<Figure size 432x288 with 1 Axes>"
      ]
     },
     "metadata": {
      "needs_background": "light"
     },
     "output_type": "display_data"
    }
   ],
   "source": [
    "x_index = [i for i in range(0,len(y_predicted)) if i==i]\n",
    "N,n = x_test.shape\n",
    "x_new = np.array(x_test)\n",
    "plt.scatter(x_new[0:N+1,0:1],y_test,marker='^',color='black', s = 25)\n",
    "plt.legend()\n",
    "plt.scatter(x_new[0:N+1,0:1],yp1,marker='s',color='red', s=5)\n",
    "plt.xlabel(\"Bill Length\")\n",
    "plt.ylabel(\"Sex\")\n",
    "plt.title(\"Y vs Y_Predicted\")\n",
    "plt.legend()\n",
    "plt.show()"
   ]
  },
  {
   "cell_type": "code",
   "execution_count": null,
   "metadata": {},
   "outputs": [],
   "source": []
  }
 ],
 "metadata": {
  "kernelspec": {
   "display_name": "Python 3",
   "language": "python",
   "name": "python3"
  },
  "language_info": {
   "codemirror_mode": {
    "name": "ipython",
    "version": 3
   },
   "file_extension": ".py",
   "mimetype": "text/x-python",
   "name": "python",
   "nbconvert_exporter": "python",
   "pygments_lexer": "ipython3",
   "version": "3.7.3"
  }
 },
 "nbformat": 4,
 "nbformat_minor": 2
}
